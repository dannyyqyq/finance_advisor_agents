{
 "cells": [
  {
   "cell_type": "code",
   "execution_count": 1,
   "metadata": {},
   "outputs": [
    {
     "name": "stderr",
     "output_type": "stream",
     "text": [
      "c:\\Users\\yq198\\Desktop\\DANNY_AI\\AI_REVISED\\CV_JD_AI\\venv\\Lib\\site-packages\\pydantic\\_internal\\_config.py:323: PydanticDeprecatedSince20: Support for class-based `config` is deprecated, use ConfigDict instead. Deprecated in Pydantic V2.0 to be removed in V3.0. See Pydantic V2 Migration Guide at https://errors.pydantic.dev/2.11/migration/\n",
      "  warnings.warn(DEPRECATION_MESSAGE, DeprecationWarning)\n",
      "c:\\Users\\yq198\\Desktop\\DANNY_AI\\AI_REVISED\\CV_JD_AI\\venv\\Lib\\site-packages\\pydantic\\_internal\\_fields.py:198: UserWarning: Field name \"schema\" in \"DatabricksQueryToolSchema\" shadows an attribute in parent \"BaseModel\"\n",
      "  warnings.warn(\n",
      "c:\\Users\\yq198\\Desktop\\DANNY_AI\\AI_REVISED\\CV_JD_AI\\venv\\Lib\\site-packages\\pydantic\\_internal\\_generate_schema.py:617: UserWarning: <built-in function callable> is not a Python type (it may be an instance of an object), Pydantic will allow any object with no validation since we cannot even enforce that the input is an instance of the given type. To get rid of this error wrap the type with `pydantic.SkipValidation`.\n",
      "  warn(\n",
      "c:\\Users\\yq198\\Desktop\\DANNY_AI\\AI_REVISED\\CV_JD_AI\\venv\\Lib\\site-packages\\crewai_tools\\tools\\scrapegraph_scrape_tool\\scrapegraph_scrape_tool.py:34: PydanticDeprecatedSince20: Pydantic V1 style `@validator` validators are deprecated. You should migrate to Pydantic V2 style `@field_validator` validators, see the migration guide for more details. Deprecated in Pydantic V2.0 to be removed in V3.0. See Pydantic V2 Migration Guide at https://errors.pydantic.dev/2.11/migration/\n",
      "  @validator(\"website_url\")\n",
      "c:\\Users\\yq198\\Desktop\\DANNY_AI\\AI_REVISED\\CV_JD_AI\\venv\\Lib\\site-packages\\crewai_tools\\tools\\selenium_scraping_tool\\selenium_scraping_tool.py:26: PydanticDeprecatedSince20: Pydantic V1 style `@validator` validators are deprecated. You should migrate to Pydantic V2 style `@field_validator` validators, see the migration guide for more details. Deprecated in Pydantic V2.0 to be removed in V3.0. See Pydantic V2 Migration Guide at https://errors.pydantic.dev/2.11/migration/\n",
      "  @validator(\"website_url\")\n",
      "c:\\Users\\yq198\\Desktop\\DANNY_AI\\AI_REVISED\\CV_JD_AI\\venv\\Lib\\site-packages\\crewai_tools\\tools\\vision_tool\\vision_tool.py:15: PydanticDeprecatedSince20: Pydantic V1 style `@validator` validators are deprecated. You should migrate to Pydantic V2 style `@field_validator` validators, see the migration guide for more details. Deprecated in Pydantic V2.0 to be removed in V3.0. See Pydantic V2 Migration Guide at https://errors.pydantic.dev/2.11/migration/\n",
      "  @validator(\"image_path_url\")\n"
     ]
    }
   ],
   "source": [
    "from crewai import Agent, Task, Crew\n",
    "from crewai_tools import SerperDevTool\n",
    "from dotenv import load_dotenv\n",
    "import os\n",
    "import datetime"
   ]
  },
  {
   "cell_type": "code",
   "execution_count": null,
   "metadata": {},
   "outputs": [],
   "source": [
    "# Load environment variables\n",
    "load_dotenv()\n",
    "os.environ[\"OPENAI_API_KEY\"] = os.getenv(\"OPENAI_API_KEY\")\n",
    "os.environ[\"SERPER_API_KEY\"] = os.getenv(\"SERPER_API_KEY\")"
   ]
  },
  {
   "cell_type": "code",
   "execution_count": null,
   "metadata": {},
   "outputs": [],
   "source": [
    "# Initialize LLM and Tool\n",
    "llm = \"gpt-4-0125-preview\"\n",
    "search_tool = SerperDevTool()\n",
    "\n",
    "companies = input(\"Enter companies to analyze (comma-separated, e.g., Apple, Tesla): \").split(\", \")\n",
    "companies_str = \", \".join(companies)\n",
    "\n",
    "# Get the current date and time\n",
    "current_time = datetime.datetime.now()\n",
    "filename_datetime = current_time.strftime(\"%Y/%m/%d/%H\")"
   ]
  },
  {
   "cell_type": "code",
   "execution_count": null,
   "metadata": {},
   "outputs": [],
   "source": [
    "# Define Agents with company-specific focus and search tool\n",
    "research_agent = Agent(\n",
    "    role='Company Researcher',\n",
    "    goal=f'Gather financial data and market position for {companies_str} up to the latest available date and time, specifically {current_time}.',\n",
    "    backstory='You are an expert in company-specific financial research with access to latest available date and time web data.',\n",
    "    verbose=True,\n",
    "    llm=llm,\n",
    "    tools=[search_tool]\n",
    ")\n",
    "\n",
    "analysis_agent = Agent(\n",
    "    role='Company Analyst',\n",
    "    goal=f'Analyze investment potential for {companies_str} based on the latest data available up to {current_time}.',\n",
    "    backstory='You specialize in evaluating company investment opportunities.',\n",
    "    verbose=True,\n",
    "    llm=llm,\n",
    "    tools=[search_tool]\n",
    ")\n",
    "\n",
    "report_agent = Agent(\n",
    "    role='Investment Advisor',\n",
    "    goal=f'Create investment recommendations for {companies_str} with current insights up to {current_time}.',\n",
    "    backstory='You are a financial advisor creating tailored investment reports.',\n",
    "    verbose=True,\n",
    "    llm=llm\n",
    ")"
   ]
  },
  {
   "cell_type": "code",
   "execution_count": null,
   "metadata": {},
   "outputs": [],
   "source": [
    "# Define Tasks\n",
    "research_task = Task(\n",
    "    description=f'Research current financial performance, market trends, and news for {companies_str} up to {current_time} using web search.',\n",
    "    agent=research_agent,\n",
    "    expected_output=f'A summary of financial data and market position for {companies_str} based on data up to {current_time}.'\n",
    ")\n",
    "\n",
    "analysis_task = Task(\n",
    "    description=f'Analyze the investment potential of {companies_str} including risk assessment using current data up to {current_time}.',\n",
    "    agent=analysis_agent,\n",
    "    expected_output=f'Detailed investment analysis for {companies_str} with risk levels based on trends up to {current_time}.'\n",
    ")\n",
    "\n",
    "report_task = Task(\n",
    "    description=f'Create an investment recommendation report for {companies_str} based on the latest analysis up to {current_time}.',\n",
    "    agent=report_agent,\n",
    "    expected_output=f'A structured report with investment recommendations for {companies_str} based on data up to {current_time}.'\n",
    ")"
   ]
  },
  {
   "cell_type": "code",
   "execution_count": null,
   "metadata": {},
   "outputs": [],
   "source": [
    "# Create and Run the Crew\n",
    "investment_crew = Crew(\n",
    "    agents=[research_agent, analysis_agent, report_agent],\n",
    "    tasks=[research_task, analysis_task, report_task],\n",
    "    verbose=True\n",
    ")"
   ]
  },
  {
   "cell_type": "code",
   "execution_count": null,
   "metadata": {},
   "outputs": [],
   "source": [
    "# Execute the crew\n",
    "result = investment_crew.kickoff()\n",
    "\n",
    "# Display and Save Results\n",
    "print(f\"Investment Report for {companies_str} ({filename_datetime}):\")\n",
    "print(result)\n",
    "\n",
    "# Save with company-specific filename\n",
    "filename = f\"investment_report_{'_'.join(companies)}_{filename_datetime.replace('/', '_')}.txt\"\n",
    "with open(filename, 'w') as f:\n",
    "    f.write(str(result))\n",
    "print(f\"Report saved to '{filename}'\")"
   ]
  },
  {
   "cell_type": "code",
   "execution_count": null,
   "metadata": {},
   "outputs": [],
   "source": []
  }
 ],
 "metadata": {
  "kernelspec": {
   "display_name": "Python 3",
   "language": "python",
   "name": "python3"
  },
  "language_info": {
   "codemirror_mode": {
    "name": "ipython",
    "version": 3
   },
   "file_extension": ".py",
   "mimetype": "text/x-python",
   "name": "python",
   "nbconvert_exporter": "python",
   "pygments_lexer": "ipython3",
   "version": "3.12.0"
  }
 },
 "nbformat": 4,
 "nbformat_minor": 2
}
